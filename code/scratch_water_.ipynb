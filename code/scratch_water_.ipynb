{
 "cells": [
  {
   "cell_type": "markdown",
   "id": "12df77e6",
   "metadata": {},
   "source": [
    "### 抓最新資料"
   ]
  },
  {
   "cell_type": "code",
   "execution_count": null,
   "id": "493a8f05",
   "metadata": {},
   "outputs": [
    {
     "name": "stdout",
     "output_type": "stream",
     "text": [
      "開始爬取福井縣『最新』水位資料...\n",
      "目標網站: https://sabo.pref.fukui.lg.jp/bousai/servlet/bousaiweb.servletBousaiTableStatus\n",
      "------------------------------\n",
      "正在抓取第 1 / 6 頁的最新資料...\n"
     ]
    },
    {
     "name": "stderr",
     "output_type": "stream",
     "text": [
      "/var/folders/zc/084j206x19b9sj5pd469rm4c0000gn/T/ipykernel_44689/2388239277.py:53: FutureWarning: Passing literal html to 'read_html' is deprecated and will be removed in a future version. To read from a literal string, wrap it in a 'StringIO' object.\n",
      "  tables_on_page = pd.read_html(response.text, attrs={'class': 'tableStatus'})\n"
     ]
    },
    {
     "name": "stdout",
     "output_type": "stream",
     "text": [
      "第 1 頁資料解析成功，共 20 筆數據。\n",
      "正在抓取第 2 / 6 頁的最新資料...\n"
     ]
    },
    {
     "name": "stderr",
     "output_type": "stream",
     "text": [
      "/var/folders/zc/084j206x19b9sj5pd469rm4c0000gn/T/ipykernel_44689/2388239277.py:53: FutureWarning: Passing literal html to 'read_html' is deprecated and will be removed in a future version. To read from a literal string, wrap it in a 'StringIO' object.\n",
      "  tables_on_page = pd.read_html(response.text, attrs={'class': 'tableStatus'})\n"
     ]
    },
    {
     "name": "stdout",
     "output_type": "stream",
     "text": [
      "第 2 頁資料解析成功，共 20 筆數據。\n",
      "正在抓取第 3 / 6 頁的最新資料...\n"
     ]
    },
    {
     "name": "stderr",
     "output_type": "stream",
     "text": [
      "/var/folders/zc/084j206x19b9sj5pd469rm4c0000gn/T/ipykernel_44689/2388239277.py:53: FutureWarning: Passing literal html to 'read_html' is deprecated and will be removed in a future version. To read from a literal string, wrap it in a 'StringIO' object.\n",
      "  tables_on_page = pd.read_html(response.text, attrs={'class': 'tableStatus'})\n"
     ]
    },
    {
     "name": "stdout",
     "output_type": "stream",
     "text": [
      "第 3 頁資料解析成功，共 20 筆數據。\n",
      "正在抓取第 4 / 6 頁的最新資料...\n"
     ]
    },
    {
     "name": "stderr",
     "output_type": "stream",
     "text": [
      "/var/folders/zc/084j206x19b9sj5pd469rm4c0000gn/T/ipykernel_44689/2388239277.py:53: FutureWarning: Passing literal html to 'read_html' is deprecated and will be removed in a future version. To read from a literal string, wrap it in a 'StringIO' object.\n",
      "  tables_on_page = pd.read_html(response.text, attrs={'class': 'tableStatus'})\n"
     ]
    },
    {
     "name": "stdout",
     "output_type": "stream",
     "text": [
      "第 4 頁資料解析成功，共 20 筆數據。\n",
      "正在抓取第 5 / 6 頁的最新資料...\n"
     ]
    },
    {
     "name": "stderr",
     "output_type": "stream",
     "text": [
      "/var/folders/zc/084j206x19b9sj5pd469rm4c0000gn/T/ipykernel_44689/2388239277.py:53: FutureWarning: Passing literal html to 'read_html' is deprecated and will be removed in a future version. To read from a literal string, wrap it in a 'StringIO' object.\n",
      "  tables_on_page = pd.read_html(response.text, attrs={'class': 'tableStatus'})\n"
     ]
    },
    {
     "name": "stdout",
     "output_type": "stream",
     "text": [
      "第 5 頁資料解析成功，共 20 筆數據。\n",
      "正在抓取第 6 / 6 頁的最新資料...\n"
     ]
    },
    {
     "name": "stderr",
     "output_type": "stream",
     "text": [
      "/var/folders/zc/084j206x19b9sj5pd469rm4c0000gn/T/ipykernel_44689/2388239277.py:53: FutureWarning: Passing literal html to 'read_html' is deprecated and will be removed in a future version. To read from a literal string, wrap it in a 'StringIO' object.\n",
      "  tables_on_page = pd.read_html(response.text, attrs={'class': 'tableStatus'})\n"
     ]
    },
    {
     "name": "stdout",
     "output_type": "stream",
     "text": [
      "第 6 頁資料解析成功，共 19 筆數據。\n",
      "------------------------------\n",
      "所有頁面抓取完畢，正在合併資料...\n",
      "\n",
      "🎉 任務完成！🎉\n",
      "總共合併了 119 筆觀測站資料。\n",
      "資料已成功儲存至檔案: /Users/wangweizhi/Desktop/file/Project/Project_Fukui/fukui_summer/dataset/fukui_水位.csv\n"
     ]
    }
   ],
   "source": [
    "# -*- coding: utf-8 -*-\n",
    "\"\"\"\n",
    "福井縣防災網站 - 水位現況表完整爬蟲 (確保獲取最新資料版本)\n",
    "\n",
    "功能:\n",
    "1. 透過 nw=1 參數確保請求的是伺服器上的最新資料。\n",
    "2. 爬取所有分頁的水位資料。\n",
    "3. 處理 Shift_JIS 日文編碼。\n",
    "4. 清理並合併資料。\n",
    "5. 將結果儲存為 CSV 檔案。\n",
    "\"\"\"\n",
    "import requests\n",
    "import pandas as pd\n",
    "import time\n",
    "from datetime import datetime\n",
    "\n",
    "def scrape_fukui_latest_water_level():\n",
    "    \"\"\"\n",
    "    爬取福井縣防災網站當前發布的最新水位觀測站資料。\n",
    "    \"\"\"\n",
    "    # 基本設定\n",
    "    base_url = \"https://sabo.pref.fukui.lg.jp/bousai/servlet/bousaiweb.servletBousaiTableStatus\"\n",
    "    total_pages = 6  # 根據網頁顯示，總共有 6 頁資料\n",
    "    all_data_frames = []\n",
    "\n",
    "    print(\"開始爬取福井縣『最新』水位資料...\")\n",
    "    print(f\"目標網站: {base_url}\")\n",
    "    print(\"-\" * 30)\n",
    "\n",
    "    # 迴圈遍歷所有頁面\n",
    "    for page_num in range(1, total_pages + 1):\n",
    "        print(f\"正在抓取第 {page_num} / {total_pages} 頁的最新資料...\")\n",
    "\n",
    "        # 組合請求參數\n",
    "        params = {\n",
    "            'sv': '3',\n",
    "            'dk': '2',      # '2' 代表水位\n",
    "            'nw': '1',      # ⭐️ 關鍵參數：'1' 代表請求 \"Now\" (最新) 的資料\n",
    "            'st': '1',      # '1' 代表警報順排序\n",
    "            'sb': '1',\n",
    "            'pg': page_num  # 'pg' 代表頁碼\n",
    "        }\n",
    "\n",
    "        try:\n",
    "            # 發送 GET 請求\n",
    "            response = requests.get(base_url, params=params, timeout=10)\n",
    "            response.raise_for_status()\n",
    "\n",
    "            # 設定正確的日文編碼\n",
    "            response.encoding = 'shift_jis'\n",
    "\n",
    "            # 解析表格\n",
    "            tables_on_page = pd.read_html(response.text, attrs={'class': 'tableStatus'})\n",
    "\n",
    "            if tables_on_page:\n",
    "                df = tables_on_page[0]\n",
    "                df.columns = ['_'.join(map(str, col)).strip() for col in df.columns.values]\n",
    "                if not df.empty:\n",
    "                    df = df.iloc[:-1]\n",
    "                all_data_frames.append(df)\n",
    "                print(f\"第 {page_num} 頁資料解析成功，共 {len(df)} 筆數據。\")\n",
    "            else:\n",
    "                print(f\"警告：在第 {page_num} 頁找不到指定的資料表格。\")\n",
    "            \n",
    "            time.sleep(1)\n",
    "\n",
    "        except requests.exceptions.RequestException as e:\n",
    "            print(f\"錯誤：抓取第 {page_num} 頁時網路請求失敗: {e}\")\n",
    "            break\n",
    "        except Exception as e:\n",
    "            print(f\"錯誤：處理第 {page_num} 頁時發生未知錯誤: {e}\")\n",
    "            break\n",
    "\n",
    "    print(\"-\" * 30)\n",
    "\n",
    "    if not all_data_frames:\n",
    "        print(\"爬取結束，未能獲取任何資料。\")\n",
    "        return\n",
    "\n",
    "    print(\"所有頁面抓取完畢，正在合併資料...\")\n",
    "    try:\n",
    "        full_df = pd.concat(all_data_frames, ignore_index=True)\n",
    "        \n",
    "        # 產生一個包含執行時間的檔案名稱\n",
    "        timestamp = datetime.now().strftime(\"%Y%m%d_%H%M%S\")\n",
    "        output_filename = r\"/Users/wangweizhi/Desktop/file/Project/Project_Fukui/fukui_summer/dataset/fukui_水位.csv\"\n",
    "        \n",
    "        full_df.to_csv(output_filename, index=False, encoding='utf-8-sig')\n",
    "\n",
    "        print(\"\\n🎉 任務完成！🎉\")\n",
    "        print(f\"總共合併了 {len(full_df)} 筆觀測站資料。\")\n",
    "        print(f\"資料已成功儲存至檔案: {output_filename}\")\n",
    "\n",
    "    except Exception as e:\n",
    "        print(f\"錯誤：合併或儲存資料時發生錯誤: {e}\")\n",
    "\n",
    "# --- 執行主程式 ---\n",
    "if __name__ == \"__main__\":\n",
    "    scrape_fukui_latest_water_level()"
   ]
  }
 ],
 "metadata": {
  "kernelspec": {
   "display_name": "3.10.13",
   "language": "python",
   "name": "python3"
  },
  "language_info": {
   "codemirror_mode": {
    "name": "ipython",
    "version": 3
   },
   "file_extension": ".py",
   "mimetype": "text/x-python",
   "name": "python",
   "nbconvert_exporter": "python",
   "pygments_lexer": "ipython3",
   "version": "3.10.13"
  }
 },
 "nbformat": 4,
 "nbformat_minor": 5
}
